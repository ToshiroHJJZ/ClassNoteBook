{
 "cells": [
  {
   "cell_type": "markdown",
   "id": "4ef4485e",
   "metadata": {},
   "source": [
    "# Ch9 Classes"
   ]
  },
  {
   "cell_type": "markdown",
   "id": "7b465366",
   "metadata": {},
   "source": [
    "### Python is an object oriented programming language.\n",
    "- Almost everything in Python is an object, with its properties and methods (Functions).\n",
    "- A Class is like an object constructor, or a \"blueprint\" for creating objects."
   ]
  },
  {
   "cell_type": "code",
   "execution_count": 20,
   "id": "741b88de",
   "metadata": {},
   "outputs": [
    {
     "name": "stdout",
     "output_type": "stream",
     "text": [
      "The email of first employee angy.hill@company.com\n",
      "First name of employee1 Angy\n",
      "Last name of employee1 Hill\n",
      "Age of employee2 35\n",
      "The email of employee1 peter.white@company.com\n",
      "The full name: Angy Hill\n",
      "The full name: Peter White\n"
     ]
    }
   ],
   "source": [
    "class Employee(): #name of the class\n",
    "    \n",
    "# __init__ is the ontructor of the class. It is mandatoru for a class construction\n",
    "# self is used to represent the instance of the class\n",
    "    def __init__(self,first,last,age,dept):\n",
    "    #method/function\n",
    "        self.first = first.title()\n",
    "        self.last = last.title()\n",
    "        self.age = age\n",
    "        self.dept = dept.title()\n",
    "        self.email = first.lower()+ \".\"+last.lower()+\"@company.com\"\n",
    "    \n",
    "    #WE WILL OWKR ON THIS LATER\n",
    "    #new method for full name. It needs only the instance\n",
    "    def full_name(self):\n",
    "        print(f\"The full name: {self.first} {self.last}\")\n",
    "    \n",
    "# __init__ will run automatically when you call the class.\n",
    "emp_1 = Employee(\"angy\", \"hill\", 30, \"accounting\")\n",
    "emp_2 = Employee(\"PETER\", \"WHITE\", 35, \"finance\")\n",
    "\n",
    "print(f\"The email of first employee {emp_1.email}\")\n",
    "print(f\"First name of employee1 {emp_1.first}\")\n",
    "print(f\"Last name of employee1 {emp_1.last}\")\n",
    "print(f\"Age of employee2 {emp_2.age}\")\n",
    "print(f\"The email of employee1 {emp_2.email}\")\n",
    "\n",
    "#print(f\"Full name of employee1 {emp_1.first} {emp_1.last}\")\n",
    "#print(f\"Full name of employee2 {emp_2.first} {emp_2.last}\")\n",
    "\n",
    "emp_1.full_name()\n",
    "emp_2.full_name()"
   ]
  },
  {
   "cell_type": "code",
   "execution_count": null,
   "id": "a9136cf8",
   "metadata": {},
   "outputs": [],
   "source": []
  },
  {
   "cell_type": "markdown",
   "id": "5d60f7c0",
   "metadata": {},
   "source": [
    "### Creating the Dog Class\n",
    "Each instance created from the Dog class will store a name and an age, and we’ll give each dog the ability to sit() and roll_over():"
   ]
  },
  {
   "cell_type": "code",
   "execution_count": 27,
   "id": "6e84155c",
   "metadata": {},
   "outputs": [
    {
     "name": "stdout",
     "output_type": "stream",
     "text": [
      "Shelly\n",
      "4\n",
      "Shelly is sitting\n",
      "Shelly is rolling over\n",
      "Shiro is sitting\n",
      "Shiro is rolling over\n",
      "Shiro is shaking my hand\n",
      "Shelly is barking! Shelly MUST SHUT UP!\n",
      "Shiro feels down\n"
     ]
    }
   ],
   "source": [
    "class Dog():\n",
    "    def __init__(self, name, age):\n",
    "        self.name = name.title()\n",
    "        self.age = age\n",
    "    def sit(self):\n",
    "        print(f\"{self.name} is sitting\")\n",
    "    def roll_over(self):\n",
    "        print(f\"{self.name} is rolling over\")\n",
    "    def shake(self):\n",
    "        print(f\"{self.name} is shaking my hand\")\n",
    "    def bark(self):\n",
    "        print(f\"{self.name} is barking! {self.name} MUST SHUT UP!\")\n",
    "    def down(self):\n",
    "        print(f\"{self.name} feels down\")\n",
    "        \n",
    "dog1 = Dog(\"Shelly\",4)\n",
    "print(dog1.name)\n",
    "print(dog1.age)\n",
    "dog1.sit()\n",
    "dog1.roll_over()\n",
    "\n",
    "dog2 = Dog(\"Shiro\", 3)\n",
    "dog2.sit()\n",
    "dog2.roll_over()\n",
    "dog2.shake()\n",
    "dog1.bark()\n",
    "dog2.down()"
   ]
  },
  {
   "cell_type": "code",
   "execution_count": null,
   "id": "3c70e9c0",
   "metadata": {},
   "outputs": [],
   "source": []
  },
  {
   "cell_type": "markdown",
   "id": "8bbcc5c0",
   "metadata": {},
   "source": [
    "#### Note:\n",
    "- By convention, capitalized names refer to classes in Python. \n",
    "- The parentheses in the class definition are empty because we’re creating this class from scratch.\n",
    "- All classes have a function called __init__(), which is always executed when the class is being initiated.\n",
    "- Use the __init__() function to assign values to object properties, or other operations that are necessary to do when the object is being created\n",
    "- Any variable prefixed with `self` is available to every method in the class, and we’ll also be able to access these variables through any instance created from the class.\n",
    "- The Dog class has two other methods defined: sit() and roll_over().Because these methods don’t need additional information like a name or age, we just define them to have one parameter, self."
   ]
  },
  {
   "cell_type": "markdown",
   "id": "402f0696",
   "metadata": {},
   "source": [
    "### Restaurant: Make a class called Restaurant. The __init__() method for Restaurant should store two attributes: a restaurant_name and a cuisine_type.\n",
    "- Make a method called `describe_restaurant()` that prints name of the restaurant and the cuisine type\n",
    "- and a method called open_restaurant() that prints a message indicating that the restaurant is open.\n",
    "- Make an instance called restaurant from your class. Print the two attributes individually, and then call both methods.\n"
   ]
  },
  {
   "cell_type": "code",
   "execution_count": 25,
   "id": "c4316b2d",
   "metadata": {},
   "outputs": [
    {
     "name": "stdout",
     "output_type": "stream",
     "text": [
      "Restaurant Name: The Mean Queen\n",
      "Cuisine type: Pizza\n",
      "The Mean Queen serves wonderful Pizza.\n",
      "The Mean Queen is currently open! Come on in!\n"
     ]
    }
   ],
   "source": [
    "class Restaurant():\n",
    "    def __init__(self, name, cuisine_type):\n",
    "        self.name = name.title()\n",
    "        self.cuisine_type = cuisine_type.title()\n",
    "    def describe_restaurant(self):\n",
    "        print(f\"{self.name} serves wonderful {self.cuisine_type}.\")\n",
    "    def open_restaurant(self):\n",
    "        print(f\"{self.name} is currently open! Come on in!\")\n",
    "        \n",
    "r1 = Restaurant(\"The mean queen\", \"Pizza\")\n",
    "print(f\"Restaurant Name: {r1.name}\")\n",
    "print(f\"Cuisine type: {r1.cuisine_type}\")\n",
    "r1.describe_restaurant()\n",
    "r1.open_restaurant()"
   ]
  },
  {
   "cell_type": "code",
   "execution_count": null,
   "id": "f9be3f46",
   "metadata": {},
   "outputs": [],
   "source": []
  },
  {
   "cell_type": "markdown",
   "id": "8b4a4fca",
   "metadata": {},
   "source": [
    "### - Create three different instances from the class, and call describe_restaurant() for each instance."
   ]
  },
  {
   "cell_type": "code",
   "execution_count": 27,
   "id": "b3845fe0",
   "metadata": {},
   "outputs": [
    {
     "name": "stdout",
     "output_type": "stream",
     "text": [
      "The Mean Queen serves wonderful Pizza.\n",
      "The Mean Queen serves wonderful Pizza.\n",
      "Royals Hot Chiken serves wonderful Hot Chiken.\n"
     ]
    }
   ],
   "source": [
    "r2 = Restaurant(\"The mean queen\", \"pizza\")\n",
    "r3 = Restaurant(\"Royals Hot Chiken\", \"Hot Chiken\")\n",
    "r1.describe_restaurant()\n",
    "r2.describe_restaurant()\n",
    "r3.describe_restaurant()\n"
   ]
  },
  {
   "cell_type": "code",
   "execution_count": null,
   "id": "e6aa8a33",
   "metadata": {},
   "outputs": [],
   "source": []
  },
  {
   "cell_type": "code",
   "execution_count": null,
   "id": "6b24e6f1",
   "metadata": {},
   "outputs": [],
   "source": []
  },
  {
   "cell_type": "markdown",
   "id": "8f4032c6",
   "metadata": {},
   "source": [
    "### Users: Make a class called User. Create attributes called first_name and last_name, username, location \n",
    "- Make a method called describe_user() that prints a summary of the user’s information. \n",
    "- Make another method called greet_user() that prints a personalized greeting to the user.\n",
    "- Create several instances representing different users, and call both methods for each user."
   ]
  },
  {
   "cell_type": "code",
   "execution_count": 7,
   "id": "dda94ce2",
   "metadata": {},
   "outputs": [
    {
     "name": "stdout",
     "output_type": "stream",
     "text": [
      "\n",
      "Eric Matthews \n",
      "\t\tThe user's username is e_matthews\n",
      "\t\tLocation: Alaska\n",
      "\n",
      "Welcome Eric.\n"
     ]
    }
   ],
   "source": [
    "class User():\n",
    "    def __init__(self, first_name, last_name, username, location):\n",
    "        self.first_name = first_name.title()\n",
    "        self.last_name = last_name.title()\n",
    "        self.username = username\n",
    "        self.location = location.title()\n",
    "        \n",
    "    def describe_user(self):\n",
    "        print(f\"\\n{self.first_name} {self.last_name} \")\n",
    "        print(f\"\\t\\tThe user's username is {self.username}\")\n",
    "        print(f\"\\t\\tLocation: {self.location}\")\n",
    "    \n",
    "    def greet_user(self):\n",
    "        print(f\"\\nWelcome {self.first_name}.\")\n",
    "        \n",
    "user1 = User('eric', 'matthews', 'e_matthews', 'alaska')\n",
    "user1.describe_user()\n",
    "user1.greet_user()"
   ]
  },
  {
   "cell_type": "code",
   "execution_count": 6,
   "id": "8864d617",
   "metadata": {},
   "outputs": [
    {
     "name": "stdout",
     "output_type": "stream",
     "text": [
      "\n",
      "Willie Burger \n",
      "\t\tThe user's username is w_burger\n",
      "\t\tLocation: Alaska\n",
      "\n",
      "Welcome Willie.\n"
     ]
    }
   ],
   "source": [
    "user2 = User('willie', 'burger', 'w_burger', 'alaska')\n",
    "user2.describe_user()\n",
    "user2.greet_user()"
   ]
  },
  {
   "cell_type": "markdown",
   "id": "8b5bfff2",
   "metadata": {},
   "source": [
    "## Setting a Default Value for an Attribute"
   ]
  },
  {
   "cell_type": "code",
   "execution_count": 31,
   "id": "bbdc7a10",
   "metadata": {},
   "outputs": [],
   "source": [
    "class Car():\n",
    "    #create a class called car which containst the make, model\n",
    "    def  __init__(self, make, model, year):\n",
    "        self.make = make\n",
    "        self.model = model\n",
    "        self.year = year\n",
    "        #Add a method called get descriptive_name whoch returns the car infrmoation\n",
    "        self.odometer_reading = 0\n",
    "    \n",
    "    def get_descriptive_name(self):\n",
    "        long_name = str(self.year) + \" \" + self.make + \" \" + self.model\n",
    "        return long_name.title()\n",
    "    \n",
    "    def read_odometer(self):\n",
    "        print(f\"This car has {self.odometer_reading} miles on it\")"
   ]
  },
  {
   "cell_type": "code",
   "execution_count": 82,
   "id": "6f8fa540",
   "metadata": {},
   "outputs": [
    {
     "name": "stdout",
     "output_type": "stream",
     "text": [
      "My car is: 2019 Nissan Versa\n",
      "My friend's car is: 2018 Hyundai Elantra\n",
      "This car has 0 miles on the car\n",
      "This car has 0 miles on the car\n"
     ]
    }
   ],
   "source": [
    "my_car = Car(\"Nissan\", \"Versa\", 2019)\n",
    "friends_car = Car(\"Hyundai\", \"Elantra\", 2018)\n",
    "\n",
    "print(f\"My car is: {my_car.get_descriptive_name()}\")\n",
    "print(f\"My friend's car is: {friends_car.get_descriptive_name()}\")\n",
    "\n",
    "\n",
    "my_car.read_odometer()\n",
    "friends_car.read_odometer()"
   ]
  },
  {
   "cell_type": "markdown",
   "id": "623144c4",
   "metadata": {},
   "source": [
    "### Modifying the odmeter reading reading without the method"
   ]
  },
  {
   "cell_type": "markdown",
   "id": "3f840f3e",
   "metadata": {},
   "source": [
    "#### Modifying an Attribute’s Value Directly"
   ]
  },
  {
   "cell_type": "code",
   "execution_count": 83,
   "id": "ded4214c",
   "metadata": {},
   "outputs": [
    {
     "name": "stdout",
     "output_type": "stream",
     "text": [
      "This car has 23 miles on the car\n"
     ]
    }
   ],
   "source": [
    "my_car.odometer_reading = 23 ##Overwirte the default value\n",
    "my_car.read_odometer()"
   ]
  },
  {
   "cell_type": "code",
   "execution_count": 84,
   "id": "45d1bbdd",
   "metadata": {},
   "outputs": [
    {
     "name": "stdout",
     "output_type": "stream",
     "text": [
      "This car has 10 miles on the car\n"
     ]
    }
   ],
   "source": [
    "friends_car.odometer_reading = 10\n",
    "friends_car.read_odometer()"
   ]
  },
  {
   "cell_type": "markdown",
   "id": "27f8f244",
   "metadata": {},
   "source": [
    "### Modifying an Attribute’s Value Through a Method"
   ]
  },
  {
   "cell_type": "code",
   "execution_count": 29,
   "id": "9b3ae956",
   "metadata": {},
   "outputs": [],
   "source": [
    "class Car():\n",
    "    #create a class called car which containst the make, model\n",
    "    def  __init__(self, make, model, year):\n",
    "        self.make = make\n",
    "        self.model = model\n",
    "        self.year = year\n",
    "        #Add a method called get descriptive_name whoch returns the car infrmoation\n",
    "        self.odometer_reading = 0\n",
    "    \n",
    "    def get_descriptive_name(self):\n",
    "        long_name = str(self.year) + \" \" + self.make + \" \" + self.model\n",
    "        return long_name.title()\n",
    "    \n",
    "    def read_odometer(self):\n",
    "        print(f\"This car has {self.odometer_reading} miles on the car\")\n",
    "    \n",
    "    def update_odometer(self, mileage):\n",
    "        self.odometer_reading = mileage\n",
    "        print(f\"The current odometer reading {self.odometer_reading}\")\n",
    "        \n",
    "    def incremental_odometer(self,miles):\n",
    "        self.odometer_reading += miles\n",
    "        print(f\"The updated odometer reading is {self.odometer_reading}\")"
   ]
  },
  {
   "cell_type": "code",
   "execution_count": 31,
   "id": "721fb642",
   "metadata": {},
   "outputs": [
    {
     "name": "stdout",
     "output_type": "stream",
     "text": [
      "The car information 2019 Nissan Versa\n",
      "This car has 0 miles on the car\n",
      "The current odometer reading 23\n",
      "friends car: 2018 Hyunadai Elantra.\n",
      "This car has 0 miles on the car\n"
     ]
    }
   ],
   "source": [
    "my_car = Car(\"Nissan\", \"Versa\", 2019)\n",
    "friends_car = Car(\"Hyunadai\", \"Elantra\", 2018)\n",
    "print(\"The car information\", my_car.get_descriptive_name())\n",
    "my_car.read_odometer()\n",
    "my_car.update_odometer(23)\n",
    "print(f\"friends car: {friends_car.get_descriptive_name()}.\")\n",
    "friends_car.read_odometer()"
   ]
  },
  {
   "cell_type": "code",
   "execution_count": 87,
   "id": "8d76b884",
   "metadata": {},
   "outputs": [
    {
     "name": "stdout",
     "output_type": "stream",
     "text": [
      "This car has 23 miles on the car\n"
     ]
    }
   ],
   "source": [
    "my_car.read_odometer()"
   ]
  },
  {
   "cell_type": "markdown",
   "id": "fd560131",
   "metadata": {},
   "source": [
    "### Incrementing an Attribute’s Value Through a Method"
   ]
  },
  {
   "cell_type": "code",
   "execution_count": 98,
   "id": "1500c7e7",
   "metadata": {},
   "outputs": [
    {
     "name": "stdout",
     "output_type": "stream",
     "text": [
      "The car information 2019 Nissan Versa\n",
      "This car has 0 miles on the car\n",
      "The current odometer reading 23\n",
      "The updated odometer reading is 123\n",
      "The updated odometer reading is 1123\n"
     ]
    }
   ],
   "source": [
    "my_car = Car(\"Nissan\", \"Versa\", 2019)\n",
    "print(\"The car information\" , my_car.get_descriptive_name())\n",
    "my_car.read_odometer()\n",
    "my_car.update_odometer(23)\n",
    "my_car.incremental_odometer(100)\n",
    "my_car.incremental_odometer(1000)"
   ]
  },
  {
   "cell_type": "markdown",
   "id": "b96f0d18",
   "metadata": {},
   "source": [
    "# Inheritance\n",
    "- You don’t always have to start from scratch when writing a class. If the class you’re writing is a specialized version of another class you wrote, you can use inheritance. \n",
    "- When one class inherits from another, it automatically takes on all the attributes and methods of the first class. The original class is called the `parent class`, and the new class is the `child class`. \n",
    "- The child class inherits every attribute and method from its parent class but is also free to define new attributes and methods of its own."
   ]
  },
  {
   "cell_type": "markdown",
   "id": "bcb5a390",
   "metadata": {},
   "source": [
    "### Parent Class- Polygon"
   ]
  },
  {
   "cell_type": "markdown",
   "id": "3c653dda",
   "metadata": {},
   "source": [
    "Create a method called calc_perimeter"
   ]
  },
  {
   "cell_type": "code",
   "execution_count": 48,
   "id": "67a93a11",
   "metadata": {},
   "outputs": [],
   "source": [
    "class Polygon:\n",
    "    def __init__(self,side_length):\n",
    "        self.side_length=side_length\n",
    "        \n",
    "    def perimeter(self):\n",
    "        return sum(self.side_length)"
   ]
  },
  {
   "cell_type": "code",
   "execution_count": 50,
   "id": "2b4814b7",
   "metadata": {},
   "outputs": [
    {
     "name": "stdout",
     "output_type": "stream",
     "text": [
      "23\n"
     ]
    }
   ],
   "source": [
    "some_shape=Polygon([1,3,5,6,8])\n",
    "print(some_shape.perimeter())"
   ]
  },
  {
   "cell_type": "code",
   "execution_count": 49,
   "id": "b6c9704b",
   "metadata": {},
   "outputs": [
    {
     "name": "stdout",
     "output_type": "stream",
     "text": [
      "177\n"
     ]
    }
   ],
   "source": [
    "another_shape=Polygon([2,56,65,12,34,8])\n",
    "print(another_shape.perimeter())"
   ]
  },
  {
   "cell_type": "markdown",
   "id": "f2167b2f",
   "metadata": {},
   "source": [
    "## Child Class"
   ]
  },
  {
   "cell_type": "markdown",
   "id": "b8b3ea4b",
   "metadata": {},
   "source": [
    "### Create a child class called Triangle and calculate the perimeter and the area"
   ]
  },
  {
   "cell_type": "code",
   "execution_count": 54,
   "id": "42213374",
   "metadata": {},
   "outputs": [],
   "source": [
    "class Triangle(Polygon):\n",
    "    def __init__(self,side_length):\n",
    "        super().__init__(side_length)\n",
    "                 \n",
    "    def area(self):\n",
    "        a,b,c, = self.side_length\n",
    "        s= (a+b+c)/2\n",
    "        return (s*(s-a)*(s-b)*(s-c))**.5"
   ]
  },
  {
   "cell_type": "code",
   "execution_count": 56,
   "id": "62e7ea9a",
   "metadata": {},
   "outputs": [
    {
     "name": "stdout",
     "output_type": "stream",
     "text": [
      "The perimeter is 12\n",
      "The area is 6.0\n"
     ]
    }
   ],
   "source": [
    "a_triangle = Triangle([3,4,5])\n",
    "print(f\"The perimeter is {a_triangle.perimeter()}\")\n",
    "print(f\"The area is {a_triangle.area()}\")"
   ]
  },
  {
   "cell_type": "markdown",
   "id": "42388704",
   "metadata": {},
   "source": [
    "### Create a child class called Rectangle and calcualte the perimeter and the area"
   ]
  },
  {
   "cell_type": "code",
   "execution_count": 58,
   "id": "dc65bb84",
   "metadata": {},
   "outputs": [],
   "source": [
    " class Rectangle(Polygon):\n",
    "    def __init__(self,side_length):\n",
    "        super().__init__(side_length)\n",
    "        \n",
    "    def area(self):\n",
    "        a,b,c,d=self.side_length\n",
    "        if a!=b:\n",
    "            result=a*b\n",
    "        elif a!=c:\n",
    "            result=a*c\n",
    "        else:\n",
    "            result=a*d        \n",
    "        return result"
   ]
  },
  {
   "cell_type": "code",
   "execution_count": 62,
   "id": "77ff5d42",
   "metadata": {},
   "outputs": [
    {
     "name": "stdout",
     "output_type": "stream",
     "text": [
      "The area is: 6. \n",
      "The perimeter is: 10.\n"
     ]
    }
   ],
   "source": [
    "a_rectangle = Rectangle([2,2,3,3])\n",
    "print(f\"The area is: {a_rectangle.area()}. \\nThe perimeter is: {a_rectangle.perimeter()}.\")"
   ]
  },
  {
   "cell_type": "code",
   "execution_count": 61,
   "id": "0f3a01df",
   "metadata": {},
   "outputs": [
    {
     "name": "stdout",
     "output_type": "stream",
     "text": [
      "The area is: 4. \n",
      "The perimeter is: 8.\n"
     ]
    }
   ],
   "source": [
    "a_rectangle = Rectangle([2,2,2,2])\n",
    "print(f\"The area is: {a_rectangle.area()}. \\nThe perimeter is: {a_rectangle.perimeter()}.\")"
   ]
  },
  {
   "cell_type": "code",
   "execution_count": null,
   "id": "f1004c4d",
   "metadata": {},
   "outputs": [],
   "source": []
  },
  {
   "cell_type": "markdown",
   "id": "5b594c20",
   "metadata": {},
   "source": [
    "### Practice: Create a class named Person, with firstname and lastname properties, and a printname method:"
   ]
  },
  {
   "cell_type": "code",
   "execution_count": 1,
   "id": "681edaaf",
   "metadata": {},
   "outputs": [],
   "source": [
    "class Person():\n",
    "    def __init__(self, first_name, last_name):\n",
    "        self.first_name = first_name.title()\n",
    "        self.last_name = last_name.title()\n",
    "    def print_name(self):\n",
    "        print(f\"{self.first_name} {self.last_name}\")"
   ]
  },
  {
   "cell_type": "code",
   "execution_count": 4,
   "id": "9d3a0e56",
   "metadata": {},
   "outputs": [
    {
     "name": "stdout",
     "output_type": "stream",
     "text": [
      "Jonathan Penaloza\n",
      "Julius Sesar\n"
     ]
    }
   ],
   "source": [
    "person1= Person(\"Jonathan\", \"Penaloza\")\n",
    "person2= Person(\"Julius\", \"Sesar\")\n",
    "person1.print_name()\n",
    "person2.print_name()"
   ]
  },
  {
   "cell_type": "markdown",
   "id": "a8023470",
   "metadata": {},
   "source": [
    "### Create child classes called Student using Inheritance contains the first and last name and the graduation year \n",
    "- Add a method called `welcome` that prints the student graduation year\n",
    "- Test the student method for two students"
   ]
  },
  {
   "cell_type": "code",
   "execution_count": 19,
   "id": "b75d7a0a",
   "metadata": {},
   "outputs": [],
   "source": [
    "class Student(Person):\n",
    "    def __init__(self, first_name, last_name, year):\n",
    "        super().__init__(first_name, last_name)\n",
    "        self.year = year\n",
    "    def welcome(self):\n",
    "        print(f\"Welcome, {self.first_name} {self.last_name} to the class of {self.year}!\")"
   ]
  },
  {
   "cell_type": "code",
   "execution_count": 64,
   "id": "8a1571d5",
   "metadata": {},
   "outputs": [
    {
     "name": "stdout",
     "output_type": "stream",
     "text": [
      "Jonathan Penaloza\n",
      "Welcome, Jonathan Penaloza to the class of 2025!\n",
      "Julius Sesar\n",
      "Welcome, Julius Sesar to the class of 2034!\n"
     ]
    }
   ],
   "source": [
    "student1 = Student(\"Jonathan\", \"Penaloza\", 2025)\n",
    "student1.print_name()\n",
    "student1.welcome()\n",
    "\n",
    "student2 = Student(\"Julius\", \"Sesar\", 2034)\n",
    "student2.print_name()\n",
    "student2.welcome()"
   ]
  },
  {
   "cell_type": "markdown",
   "id": "c5be8635",
   "metadata": {},
   "source": [
    "### Create a parent class rectangle and two methods called area and perimeter"
   ]
  },
  {
   "cell_type": "code",
   "execution_count": 68,
   "id": "d79d13af",
   "metadata": {},
   "outputs": [],
   "source": [
    "class Rectangle():\n",
    "    def __init__(self,length,width):\n",
    "        self.length=length\n",
    "        self.width=width\n",
    "        \n",
    "    def area(self):\n",
    "        return self.length*self.width\n",
    "    \n",
    "    def perimeter(self):\n",
    "        return 2*(self.length+self.width)"
   ]
  },
  {
   "cell_type": "code",
   "execution_count": null,
   "id": "95dd1abc",
   "metadata": {},
   "outputs": [],
   "source": []
  },
  {
   "cell_type": "markdown",
   "id": "6b137041",
   "metadata": {},
   "source": [
    "### Create a child class square and test for two cases, do method poverloading for area and perimeter"
   ]
  },
  {
   "cell_type": "code",
   "execution_count": 69,
   "id": "808a5637",
   "metadata": {},
   "outputs": [],
   "source": [
    "class Square(Rectangle):\n",
    "    def __init__(self, l):\n",
    "        super().__init__(l,l)"
   ]
  },
  {
   "cell_type": "code",
   "execution_count": 70,
   "id": "aa470a3f",
   "metadata": {},
   "outputs": [
    {
     "name": "stdout",
     "output_type": "stream",
     "text": [
      "16\n",
      "16\n"
     ]
    }
   ],
   "source": [
    "square1 = Square(4)\n",
    "print(square1.area())\n",
    "print(square1.perimeter())"
   ]
  },
  {
   "cell_type": "markdown",
   "id": "55fb8a22",
   "metadata": {},
   "source": [
    "# Lambda Function"
   ]
  },
  {
   "cell_type": "code",
   "execution_count": 17,
   "id": "40e3a33e",
   "metadata": {},
   "outputs": [],
   "source": [
    "# The identity function returns the argument\n",
    "def identity(x):\n",
    "    return x"
   ]
  },
  {
   "cell_type": "code",
   "execution_count": 18,
   "id": "51203684",
   "metadata": {},
   "outputs": [
    {
     "data": {
      "text/plain": [
       "3"
      ]
     },
     "execution_count": 18,
     "metadata": {},
     "output_type": "execute_result"
    }
   ],
   "source": [
    "identity(3)"
   ]
  },
  {
   "cell_type": "markdown",
   "id": "f9d33b92",
   "metadata": {},
   "source": [
    "## A Lambda function contruction:"
   ]
  },
  {
   "cell_type": "markdown",
   "id": "ef7d42dc",
   "metadata": {},
   "source": [
    "Lambda argument(s): expression"
   ]
  },
  {
   "cell_type": "code",
   "execution_count": 19,
   "id": "c2b5d316",
   "metadata": {},
   "outputs": [
    {
     "data": {
      "text/plain": [
       "2"
      ]
     },
     "execution_count": 19,
     "metadata": {},
     "output_type": "execute_result"
    }
   ],
   "source": [
    "(lambda x:x) (2) #lambda argument: expression(input) # the session returns value"
   ]
  },
  {
   "cell_type": "code",
   "execution_count": 20,
   "id": "9ac2b24a",
   "metadata": {},
   "outputs": [
    {
     "data": {
      "text/plain": [
       "4"
      ]
     },
     "execution_count": 20,
     "metadata": {},
     "output_type": "execute_result"
    }
   ],
   "source": [
    "(lambda x:x+1) (3)"
   ]
  },
  {
   "cell_type": "code",
   "execution_count": 23,
   "id": "69b881e6",
   "metadata": {},
   "outputs": [
    {
     "data": {
      "text/plain": [
       "4"
      ]
     },
     "execution_count": 23,
     "metadata": {},
     "output_type": "execute_result"
    }
   ],
   "source": [
    "#as lambda is a functin, we can store it to a variable \n",
    "add_one = lambda x:x+1\n",
    "add_one(3)"
   ]
  },
  {
   "cell_type": "markdown",
   "id": "23bcebee",
   "metadata": {},
   "source": [
    "## Common use of the lambda function"
   ]
  },
  {
   "cell_type": "markdown",
   "id": "f00f5632",
   "metadata": {},
   "source": [
    "* It is used with iterables which isd a series of values\n",
    "* The iterables are list, dictionary, tuple, strings etc\n",
    "* Two common functions that work with lambda function are `filter()`, `map()`"
   ]
  },
  {
   "cell_type": "markdown",
   "id": "7cf8369f",
   "metadata": {},
   "source": [
    "## `filter()` - filters through certain values"
   ]
  },
  {
   "cell_type": "markdown",
   "id": "56a94a1d",
   "metadata": {},
   "source": [
    "#### Example: We have a list: [1,2,3,4,5,6,7,8,9,10]. We are only interested in even numbers."
   ]
  },
  {
   "cell_type": "code",
   "execution_count": 24,
   "id": "768132a4",
   "metadata": {},
   "outputs": [
    {
     "data": {
      "text/plain": [
       "[2, 4, 6, 8, 10]"
      ]
     },
     "execution_count": 24,
     "metadata": {},
     "output_type": "execute_result"
    }
   ],
   "source": [
    "list1 = [1,2,3,4,5,6,7,8,9,10]\n",
    "list(filter(lambda x:x%2 ==0, list1))"
   ]
  },
  {
   "cell_type": "code",
   "execution_count": 25,
   "id": "e58ba292",
   "metadata": {},
   "outputs": [
    {
     "data": {
      "text/plain": [
       "[1, 3, 5, 7, 9]"
      ]
     },
     "execution_count": 25,
     "metadata": {},
     "output_type": "execute_result"
    }
   ],
   "source": [
    "# Filter the odd numbers\n",
    "list(filter(lambda x:x%2 == 1, list1))"
   ]
  },
  {
   "cell_type": "code",
   "execution_count": 26,
   "id": "edeb763b",
   "metadata": {},
   "outputs": [
    {
     "data": {
      "text/plain": [
       "[3, 6, 9]"
      ]
     },
     "execution_count": 26,
     "metadata": {},
     "output_type": "execute_result"
    }
   ],
   "source": [
    "# Filter the number multiple of three\n",
    "list(filter(lambda x:x%3 ==0, list1))"
   ]
  },
  {
   "cell_type": "markdown",
   "id": "309e3ad4",
   "metadata": {},
   "source": [
    "## `map()` - use whenever you want to update/modify every value in an iterable"
   ]
  },
  {
   "cell_type": "code",
   "execution_count": 27,
   "id": "6a3ff462",
   "metadata": {},
   "outputs": [
    {
     "data": {
      "text/plain": [
       "[1, 4, 9, 16, 25, 36, 49, 64, 81, 100]"
      ]
     },
     "execution_count": 27,
     "metadata": {},
     "output_type": "execute_result"
    }
   ],
   "source": [
    "# Create a new list of a power of 2 \n",
    "list2 = [1,2,3,4,5,6,7,8,9,10]\n",
    "list(map(lambda x:pow(x,2), list2))"
   ]
  },
  {
   "cell_type": "code",
   "execution_count": 29,
   "id": "3e47f560",
   "metadata": {},
   "outputs": [
    {
     "data": {
      "text/plain": [
       "[1, 8, 27, 64, 125, 216, 343, 512, 729, 1000]"
      ]
     },
     "execution_count": 29,
     "metadata": {},
     "output_type": "execute_result"
    }
   ],
   "source": [
    "# Cube of each number\n",
    "list(map(lambda x:pow(x,3), list2))"
   ]
  },
  {
   "cell_type": "markdown",
   "id": "90fb94fc",
   "metadata": {},
   "source": [
    "## Example "
   ]
  },
  {
   "cell_type": "code",
   "execution_count": 31,
   "id": "5cc10189",
   "metadata": {},
   "outputs": [
    {
     "data": {
      "text/plain": [
       "6"
      ]
     },
     "execution_count": 31,
     "metadata": {},
     "output_type": "execute_result"
    }
   ],
   "source": [
    "(lambda x,y,z,:x+y+z)(1,2,3)"
   ]
  },
  {
   "cell_type": "code",
   "execution_count": 33,
   "id": "4756f36e",
   "metadata": {},
   "outputs": [
    {
     "data": {
      "text/plain": [
       "5"
      ]
     },
     "execution_count": 33,
     "metadata": {},
     "output_type": "execute_result"
    }
   ],
   "source": [
    "(lambda x,y,z=2,:x+y+z)(1,2) # z has a defualt value"
   ]
  },
  {
   "cell_type": "code",
   "execution_count": 34,
   "id": "de16597c",
   "metadata": {},
   "outputs": [
    {
     "data": {
      "text/plain": [
       "3"
      ]
     },
     "execution_count": 34,
     "metadata": {},
     "output_type": "execute_result"
    }
   ],
   "source": [
    "(lambda x,y,z=2,:x+y+z)(1,2,0) # z is updated/overriden"
   ]
  },
  {
   "cell_type": "code",
   "execution_count": 36,
   "id": "eed6ce0f",
   "metadata": {},
   "outputs": [
    {
     "data": {
      "text/plain": [
       "23"
      ]
     },
     "execution_count": 36,
     "metadata": {},
     "output_type": "execute_result"
    }
   ],
   "source": [
    "(lambda *args:sum(args))(1,2,3,4,5,8) # z has a defualt value"
   ]
  },
  {
   "cell_type": "code",
   "execution_count": null,
   "id": "2e99302a",
   "metadata": {},
   "outputs": [],
   "source": [
    "## Exception Handling"
   ]
  },
  {
   "cell_type": "code",
   "execution_count": 37,
   "id": "4d68f39a",
   "metadata": {},
   "outputs": [
    {
     "ename": "ZeroDivisionError",
     "evalue": "division by zero",
     "output_type": "error",
     "traceback": [
      "\u001b[1;31m---------------------------------------------------------------------------\u001b[0m",
      "\u001b[1;31mZeroDivisionError\u001b[0m                         Traceback (most recent call last)",
      "\u001b[1;32m~\\AppData\\Local\\Temp\\ipykernel_26060\\1152173066.py\u001b[0m in \u001b[0;36m<module>\u001b[1;34m\u001b[0m\n\u001b[1;32m----> 1\u001b[1;33m \u001b[0mprint\u001b[0m\u001b[1;33m(\u001b[0m\u001b[1;36m5\u001b[0m\u001b[1;33m/\u001b[0m\u001b[1;36m0\u001b[0m\u001b[1;33m)\u001b[0m\u001b[1;33m\u001b[0m\u001b[1;33m\u001b[0m\u001b[0m\n\u001b[0m",
      "\u001b[1;31mZeroDivisionError\u001b[0m: division by zero"
     ]
    }
   ],
   "source": [
    "print(5/0)"
   ]
  },
  {
   "cell_type": "code",
   "execution_count": 38,
   "id": "af57d182",
   "metadata": {},
   "outputs": [
    {
     "ename": "TypeError",
     "evalue": "unsupported operand type(s) for +: 'int' and 'str'",
     "output_type": "error",
     "traceback": [
      "\u001b[1;31m---------------------------------------------------------------------------\u001b[0m",
      "\u001b[1;31mTypeError\u001b[0m                                 Traceback (most recent call last)",
      "\u001b[1;32m~\\AppData\\Local\\Temp\\ipykernel_26060\\936417690.py\u001b[0m in \u001b[0;36m<module>\u001b[1;34m\u001b[0m\n\u001b[0;32m      1\u001b[0m \u001b[0mx\u001b[0m\u001b[1;33m=\u001b[0m \u001b[1;36m5\u001b[0m\u001b[1;33m\u001b[0m\u001b[1;33m\u001b[0m\u001b[0m\n\u001b[0;32m      2\u001b[0m \u001b[0my\u001b[0m \u001b[1;33m=\u001b[0m \u001b[1;34m\"Hello\"\u001b[0m\u001b[1;33m\u001b[0m\u001b[1;33m\u001b[0m\u001b[0m\n\u001b[1;32m----> 3\u001b[1;33m \u001b[0mz\u001b[0m \u001b[1;33m=\u001b[0m \u001b[0mx\u001b[0m\u001b[1;33m+\u001b[0m\u001b[0my\u001b[0m\u001b[1;33m\u001b[0m\u001b[1;33m\u001b[0m\u001b[0m\n\u001b[0m",
      "\u001b[1;31mTypeError\u001b[0m: unsupported operand type(s) for +: 'int' and 'str'"
     ]
    }
   ],
   "source": [
    "x= 5\n",
    "y = \"Hello\"\n",
    "z = x+y"
   ]
  },
  {
   "cell_type": "code",
   "execution_count": 39,
   "id": "39afe39a",
   "metadata": {},
   "outputs": [
    {
     "name": "stdout",
     "output_type": "stream",
     "text": [
      "Error: cannot add int and str\n"
     ]
    }
   ],
   "source": [
    "x =5\n",
    "y = \"Hello\"\n",
    "\n",
    "try:\n",
    "    z = x+y\n",
    "except TypeError:\n",
    "    print(\"Error: cannot add int and str\")"
   ]
  },
  {
   "cell_type": "code",
   "execution_count": 50,
   "id": "b3407e50",
   "metadata": {},
   "outputs": [
    {
     "ename": "IndexError",
     "evalue": "list index out of range",
     "output_type": "error",
     "traceback": [
      "\u001b[1;31m---------------------------------------------------------------------------\u001b[0m",
      "\u001b[1;31mIndexError\u001b[0m                                Traceback (most recent call last)",
      "\u001b[1;32m~\\AppData\\Local\\Temp\\ipykernel_26060\\3934329135.py\u001b[0m in \u001b[0;36m<module>\u001b[1;34m\u001b[0m\n\u001b[0;32m      1\u001b[0m \u001b[0mlist3\u001b[0m \u001b[1;33m=\u001b[0m \u001b[1;33m[\u001b[0m\u001b[1;36m1\u001b[0m\u001b[1;33m,\u001b[0m\u001b[1;36m2\u001b[0m\u001b[1;33m,\u001b[0m\u001b[1;36m3\u001b[0m\u001b[1;33m]\u001b[0m\u001b[1;33m\u001b[0m\u001b[1;33m\u001b[0m\u001b[0m\n\u001b[1;32m----> 2\u001b[1;33m \u001b[0mprint\u001b[0m\u001b[1;33m(\u001b[0m\u001b[1;34m\"Fourth variable: \"\u001b[0m \u001b[1;33m,\u001b[0m \u001b[0mlist3\u001b[0m\u001b[1;33m[\u001b[0m\u001b[1;36m3\u001b[0m\u001b[1;33m]\u001b[0m\u001b[1;33m)\u001b[0m\u001b[1;33m\u001b[0m\u001b[1;33m\u001b[0m\u001b[0m\n\u001b[0m",
      "\u001b[1;31mIndexError\u001b[0m: list index out of range"
     ]
    }
   ],
   "source": [
    "list3 = [1,2,3]\n",
    "print(\"Fourth variable: \" , list3[3])"
   ]
  },
  {
   "cell_type": "code",
   "execution_count": 52,
   "id": "8a9ac980",
   "metadata": {},
   "outputs": [
    {
     "name": "stdout",
     "output_type": "stream",
     "text": [
      "Second variable: 2\n",
      "An error occured\n"
     ]
    }
   ],
   "source": [
    "list3 = [1,2,3]\n",
    "\n",
    "try:\n",
    "    print(\"Second variable:\", list3[1])\n",
    "    print(\"Fourth variable:\", list3[3])\n",
    "except:\n",
    "    print(\"An error occured\")"
   ]
  },
  {
   "cell_type": "code",
   "execution_count": 54,
   "id": "c8adcfdc",
   "metadata": {},
   "outputs": [
    {
     "name": "stdout",
     "output_type": "stream",
     "text": [
      "-5.0\n",
      "a/b results in division by 0\n"
     ]
    }
   ],
   "source": [
    "def test(a,b):\n",
    "    try:\n",
    "        c=(a+b)/(a-b)\n",
    "    except:\n",
    "        print(\"a/b results in division by 0\") #if a==b\n",
    "    else: \n",
    "        print(c)\n",
    "\n",
    "test(2,3)\n",
    "test(3,3)"
   ]
  },
  {
   "cell_type": "code",
   "execution_count": null,
   "id": "b814fd26",
   "metadata": {},
   "outputs": [],
   "source": []
  },
  {
   "cell_type": "markdown",
   "id": "3bdcfd1c",
   "metadata": {},
   "source": [
    "## Create a simple calculator using classes"
   ]
  },
  {
   "cell_type": "markdown",
   "id": "9c821f33",
   "metadata": {},
   "source": [
    "#### (IP7)"
   ]
  },
  {
   "cell_type": "code",
   "execution_count": 58,
   "id": "a7a954a0",
   "metadata": {},
   "outputs": [
    {
     "name": "stdout",
     "output_type": "stream",
     "text": [
      "Enter the first number: 5\n",
      "Enter the second number: 4\n",
      "\n",
      "0. Exit\n",
      "1. Addition\n",
      "2. Substraction\n",
      "3. Multiplication\n",
      "4. Division\n",
      "Enter your choice: 1\n",
      "Result: 9\n",
      "\n",
      "0. Exit\n",
      "1. Addition\n",
      "2. Substraction\n",
      "3. Multiplication\n",
      "4. Division\n",
      "Enter your choice: 2\n",
      "Result: 1\n",
      "\n",
      "0. Exit\n",
      "1. Addition\n",
      "2. Substraction\n",
      "3. Multiplication\n",
      "4. Division\n",
      "Enter your choice: 3\n",
      "Result: 20\n",
      "\n",
      "0. Exit\n",
      "1. Addition\n",
      "2. Substraction\n",
      "3. Multiplication\n",
      "4. Division\n",
      "Enter your choice: 4\n",
      "Result: 1.25\n",
      "\n",
      "0. Exit\n",
      "1. Addition\n",
      "2. Substraction\n",
      "3. Multiplication\n",
      "4. Division\n",
      "Enter your choice: 0\n",
      "Exit\n",
      "\n"
     ]
    }
   ],
   "source": [
    "class calculator():\n",
    "\n",
    "    def __init__(self, input1, input2):\n",
    "        self.input1 = input1\n",
    "        self.input2 = input2\n",
    "    \n",
    "    def addition(self):\n",
    "        return self.input1 + self.input2\n",
    "    \n",
    "    def subtraction(self):\n",
    "        return self.input1 - self.input2\n",
    "    \n",
    "    def multiplication(self):\n",
    "        return self.input1 * self.input2\n",
    "    \n",
    "    def division(self):\n",
    "        return self.input1 / self.input2\n",
    "    \n",
    "input1 = int(input(\"Enter the first number: \"))\n",
    "input2 = int(input(\"Enter the second number: \"))\n",
    "\n",
    "my_calc = calculator(input1, input2)\n",
    "\n",
    "\n",
    "choice = 1\n",
    "while choice != 0:\n",
    "    print()\n",
    "    print(\"0. Exit\")\n",
    "    print(\"1. Addition\")\n",
    "    print(\"2. Substraction\")\n",
    "    print(\"3. Multiplication\")\n",
    "    print(\"4. Division\")\n",
    "    \n",
    "    choice = int(input(\"Enter your choice: \"))\n",
    "    \n",
    "    if choice == 1:\n",
    "        print(f\"Result: {my_calc.addition()}\")\n",
    "    elif choice == 2:\n",
    "        print(f\"Result: {my_calc.subtraction()}\")\n",
    "    elif choice == 3:\n",
    "        print(f\"Result: {my_calc.multiplication()}\")\n",
    "    elif choice == 4:\n",
    "        print(f\"Result: {my_calc.division()}\")\n",
    "        \n",
    "    elif choice == 0:\n",
    "        print(\"Exit\")\n",
    "        break\n",
    "    else:\n",
    "        print(\"Sorry invalid choice!\")\n",
    "\n",
    "print()"
   ]
  },
  {
   "cell_type": "markdown",
   "id": "0ec161b5",
   "metadata": {},
   "source": [
    "## ATM machine "
   ]
  },
  {
   "cell_type": "code",
   "execution_count": 12,
   "id": "267c3e25",
   "metadata": {},
   "outputs": [],
   "source": [
    "class Bank_acc():\n",
    "    def __init__(self):\n",
    "        self.balance = 0\n",
    "        print(\"Hello,! WElcoeme to the ATM\")\n",
    "    def deposit(self):\n",
    "        amount =float(input(\"Enter tha emount you wan to deposit: \"))\n",
    "        self.balance = amount\n",
    "        print(\"\\n Amount deposited\", amount)\n",
    "\n",
    "    def withdraw(self):\n",
    "        amount = float(input(\"Enter the amount you wna to withdraw: \"))\n",
    "        if self.balance >= amount:\n",
    "            self.balance -= amount\n",
    "            print(\"\\n You withdrawn\", amount)\n",
    "        else:\n",
    "            print(\"\\n Insufficient Balance\")\n",
    "\n",
    "    def display(self):\n",
    "        print(\"The available balance is:\", self.balance)"
   ]
  },
  {
   "cell_type": "code",
   "execution_count": 13,
   "id": "a6e40459",
   "metadata": {},
   "outputs": [
    {
     "name": "stdout",
     "output_type": "stream",
     "text": [
      "Hello,! WElcoeme to the ATM\n",
      "The available balance is: 0\n"
     ]
    }
   ],
   "source": [
    "sams_account = Bank_acc()\n",
    "sams_account.display()"
   ]
  },
  {
   "cell_type": "code",
   "execution_count": 14,
   "id": "5349965d",
   "metadata": {},
   "outputs": [
    {
     "name": "stdout",
     "output_type": "stream",
     "text": [
      "Enter tha emount you wan to deposit: 56\n",
      "\n",
      " Amount deposited 56.0\n"
     ]
    }
   ],
   "source": [
    "#Deposit \n",
    "sams_account.deposit()"
   ]
  },
  {
   "cell_type": "code",
   "execution_count": 15,
   "id": "17560f16",
   "metadata": {},
   "outputs": [
    {
     "name": "stdout",
     "output_type": "stream",
     "text": [
      "Enter the amount you wna to withdraw: 4\n",
      "\n",
      " You withdrawn 4.0\n"
     ]
    }
   ],
   "source": [
    "sams_account.withdraw()"
   ]
  },
  {
   "cell_type": "code",
   "execution_count": 16,
   "id": "b1a0822c",
   "metadata": {},
   "outputs": [
    {
     "name": "stdout",
     "output_type": "stream",
     "text": [
      "The available balance is: 52.0\n"
     ]
    }
   ],
   "source": [
    "sams_account.display()"
   ]
  }
 ],
 "metadata": {
  "kernelspec": {
   "display_name": "Python 3 (ipykernel)",
   "language": "python",
   "name": "python3"
  },
  "language_info": {
   "codemirror_mode": {
    "name": "ipython",
    "version": 3
   },
   "file_extension": ".py",
   "mimetype": "text/x-python",
   "name": "python",
   "nbconvert_exporter": "python",
   "pygments_lexer": "ipython3",
   "version": "3.9.13"
  }
 },
 "nbformat": 4,
 "nbformat_minor": 5
}
